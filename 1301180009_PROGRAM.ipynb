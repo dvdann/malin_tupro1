{
  "nbformat": 4,
  "nbformat_minor": 0,
  "metadata": {
    "kernelspec": {
      "display_name": "Python 3",
      "language": "python",
      "name": "python3"
    },
    "language_info": {
      "codemirror_mode": {
        "name": "ipython",
        "version": 3
      },
      "file_extension": ".py",
      "mimetype": "text/x-python",
      "name": "python",
      "nbconvert_exporter": "python",
      "pygments_lexer": "ipython3",
      "version": "3.8.5"
    },
    "colab": {
      "name": "1301180009_PROGRAM.ipynb",
      "provenance": []
    }
  },
  "cells": [
    {
      "cell_type": "code",
      "metadata": {
        "id": "rG8V7P6_e6av"
      },
      "source": [
        "import pandas as pd\n",
        "import matplotlib.pyplot as plt\n",
        "import numpy as np"
      ],
      "execution_count": null,
      "outputs": []
    },
    {
      "cell_type": "markdown",
      "metadata": {
        "id": "RJcw79JRe6ax"
      },
      "source": [
        "# Explorasi Data"
      ]
    },
    {
      "cell_type": "code",
      "metadata": {
        "id": "vFXwBS_fe6az",
        "outputId": "938b89e0-0fb6-4d39-af19-972fecbce7ca"
      },
      "source": [
        "dataset1 = pd.read_csv('kendaraan_train.csv')\n",
        "dataset2 = pd.read_csv('kendaraan_test.csv')\n",
        "dataset = pd.concat([dataset1,dataset2])\n",
        "dataset.head()"
      ],
      "execution_count": null,
      "outputs": [
        {
          "data": {
            "text/html": [
              "<div>\n",
              "<style scoped>\n",
              "    .dataframe tbody tr th:only-of-type {\n",
              "        vertical-align: middle;\n",
              "    }\n",
              "\n",
              "    .dataframe tbody tr th {\n",
              "        vertical-align: top;\n",
              "    }\n",
              "\n",
              "    .dataframe thead th {\n",
              "        text-align: right;\n",
              "    }\n",
              "</style>\n",
              "<table border=\"1\" class=\"dataframe\">\n",
              "  <thead>\n",
              "    <tr style=\"text-align: right;\">\n",
              "      <th></th>\n",
              "      <th>id</th>\n",
              "      <th>Jenis_Kelamin</th>\n",
              "      <th>Umur</th>\n",
              "      <th>SIM</th>\n",
              "      <th>Kode_Daerah</th>\n",
              "      <th>Sudah_Asuransi</th>\n",
              "      <th>Umur_Kendaraan</th>\n",
              "      <th>Kendaraan_Rusak</th>\n",
              "      <th>Premi</th>\n",
              "      <th>Kanal_Penjualan</th>\n",
              "      <th>Lama_Berlangganan</th>\n",
              "      <th>Tertarik</th>\n",
              "    </tr>\n",
              "  </thead>\n",
              "  <tbody>\n",
              "    <tr>\n",
              "      <th>0</th>\n",
              "      <td>1.0</td>\n",
              "      <td>Wanita</td>\n",
              "      <td>30.0</td>\n",
              "      <td>1.0</td>\n",
              "      <td>33.0</td>\n",
              "      <td>1.0</td>\n",
              "      <td>&lt; 1 Tahun</td>\n",
              "      <td>Tidak</td>\n",
              "      <td>28029.0</td>\n",
              "      <td>152.0</td>\n",
              "      <td>97.0</td>\n",
              "      <td>0</td>\n",
              "    </tr>\n",
              "    <tr>\n",
              "      <th>1</th>\n",
              "      <td>2.0</td>\n",
              "      <td>Pria</td>\n",
              "      <td>48.0</td>\n",
              "      <td>1.0</td>\n",
              "      <td>39.0</td>\n",
              "      <td>0.0</td>\n",
              "      <td>&gt; 2 Tahun</td>\n",
              "      <td>Pernah</td>\n",
              "      <td>25800.0</td>\n",
              "      <td>29.0</td>\n",
              "      <td>158.0</td>\n",
              "      <td>0</td>\n",
              "    </tr>\n",
              "    <tr>\n",
              "      <th>2</th>\n",
              "      <td>3.0</td>\n",
              "      <td>NaN</td>\n",
              "      <td>21.0</td>\n",
              "      <td>1.0</td>\n",
              "      <td>46.0</td>\n",
              "      <td>1.0</td>\n",
              "      <td>&lt; 1 Tahun</td>\n",
              "      <td>Tidak</td>\n",
              "      <td>32733.0</td>\n",
              "      <td>160.0</td>\n",
              "      <td>119.0</td>\n",
              "      <td>0</td>\n",
              "    </tr>\n",
              "    <tr>\n",
              "      <th>3</th>\n",
              "      <td>4.0</td>\n",
              "      <td>Wanita</td>\n",
              "      <td>58.0</td>\n",
              "      <td>1.0</td>\n",
              "      <td>48.0</td>\n",
              "      <td>0.0</td>\n",
              "      <td>1-2 Tahun</td>\n",
              "      <td>Tidak</td>\n",
              "      <td>2630.0</td>\n",
              "      <td>124.0</td>\n",
              "      <td>63.0</td>\n",
              "      <td>0</td>\n",
              "    </tr>\n",
              "    <tr>\n",
              "      <th>4</th>\n",
              "      <td>5.0</td>\n",
              "      <td>Pria</td>\n",
              "      <td>50.0</td>\n",
              "      <td>1.0</td>\n",
              "      <td>35.0</td>\n",
              "      <td>0.0</td>\n",
              "      <td>&gt; 2 Tahun</td>\n",
              "      <td>NaN</td>\n",
              "      <td>34857.0</td>\n",
              "      <td>88.0</td>\n",
              "      <td>194.0</td>\n",
              "      <td>0</td>\n",
              "    </tr>\n",
              "  </tbody>\n",
              "</table>\n",
              "</div>"
            ],
            "text/plain": [
              "    id Jenis_Kelamin  Umur  SIM  Kode_Daerah  Sudah_Asuransi Umur_Kendaraan  \\\n",
              "0  1.0        Wanita  30.0  1.0         33.0             1.0      < 1 Tahun   \n",
              "1  2.0          Pria  48.0  1.0         39.0             0.0      > 2 Tahun   \n",
              "2  3.0           NaN  21.0  1.0         46.0             1.0      < 1 Tahun   \n",
              "3  4.0        Wanita  58.0  1.0         48.0             0.0      1-2 Tahun   \n",
              "4  5.0          Pria  50.0  1.0         35.0             0.0      > 2 Tahun   \n",
              "\n",
              "  Kendaraan_Rusak    Premi  Kanal_Penjualan  Lama_Berlangganan  Tertarik  \n",
              "0           Tidak  28029.0            152.0               97.0         0  \n",
              "1          Pernah  25800.0             29.0              158.0         0  \n",
              "2           Tidak  32733.0            160.0              119.0         0  \n",
              "3           Tidak   2630.0            124.0               63.0         0  \n",
              "4             NaN  34857.0             88.0              194.0         0  "
            ]
          },
          "execution_count": 2,
          "metadata": {},
          "output_type": "execute_result"
        }
      ]
    },
    {
      "cell_type": "markdown",
      "metadata": {
        "id": "jYXMBJIEe6a1"
      },
      "source": [
        "Persiapan Data"
      ]
    },
    {
      "cell_type": "code",
      "metadata": {
        "id": "Jy9IlSm7e6a1",
        "outputId": "fa6d636d-ea1d-4a4b-b8ee-c81193f4644c"
      },
      "source": [
        "#Choose Dataset..\n",
        "clean_data = dataset.drop(['Tertarik','Kode_Daerah','Kanal_Penjualan','Jenis_Kelamin','Sudah_Asuransi','Umur_Kendaraan','Kendaraan_Rusak','SIM','Premi'], axis = 1)\n",
        "clean_data.head()"
      ],
      "execution_count": null,
      "outputs": [
        {
          "data": {
            "text/html": [
              "<div>\n",
              "<style scoped>\n",
              "    .dataframe tbody tr th:only-of-type {\n",
              "        vertical-align: middle;\n",
              "    }\n",
              "\n",
              "    .dataframe tbody tr th {\n",
              "        vertical-align: top;\n",
              "    }\n",
              "\n",
              "    .dataframe thead th {\n",
              "        text-align: right;\n",
              "    }\n",
              "</style>\n",
              "<table border=\"1\" class=\"dataframe\">\n",
              "  <thead>\n",
              "    <tr style=\"text-align: right;\">\n",
              "      <th></th>\n",
              "      <th>id</th>\n",
              "      <th>Umur</th>\n",
              "      <th>Lama_Berlangganan</th>\n",
              "    </tr>\n",
              "  </thead>\n",
              "  <tbody>\n",
              "    <tr>\n",
              "      <th>0</th>\n",
              "      <td>1.0</td>\n",
              "      <td>30.0</td>\n",
              "      <td>97.0</td>\n",
              "    </tr>\n",
              "    <tr>\n",
              "      <th>1</th>\n",
              "      <td>2.0</td>\n",
              "      <td>48.0</td>\n",
              "      <td>158.0</td>\n",
              "    </tr>\n",
              "    <tr>\n",
              "      <th>2</th>\n",
              "      <td>3.0</td>\n",
              "      <td>21.0</td>\n",
              "      <td>119.0</td>\n",
              "    </tr>\n",
              "    <tr>\n",
              "      <th>3</th>\n",
              "      <td>4.0</td>\n",
              "      <td>58.0</td>\n",
              "      <td>63.0</td>\n",
              "    </tr>\n",
              "    <tr>\n",
              "      <th>4</th>\n",
              "      <td>5.0</td>\n",
              "      <td>50.0</td>\n",
              "      <td>194.0</td>\n",
              "    </tr>\n",
              "  </tbody>\n",
              "</table>\n",
              "</div>"
            ],
            "text/plain": [
              "    id  Umur  Lama_Berlangganan\n",
              "0  1.0  30.0               97.0\n",
              "1  2.0  48.0              158.0\n",
              "2  3.0  21.0              119.0\n",
              "3  4.0  58.0               63.0\n",
              "4  5.0  50.0              194.0"
            ]
          },
          "execution_count": 3,
          "metadata": {},
          "output_type": "execute_result"
        }
      ]
    },
    {
      "cell_type": "code",
      "metadata": {
        "id": "1Zv8q7vae6a2",
        "outputId": "c6962e1a-5a0c-4cf3-a5ed-5a223fc4b2c9"
      },
      "source": [
        "#Check Empty Data\n",
        "\n",
        "print(\"Data yang Kosong : \")\n",
        "print(clean_data['Umur'].isnull().sum())\n",
        "\n",
        "print(\"Jumlah Keseluruhan Data : \")\n",
        "print(len(clean_data))\n",
        "\n",
        "\n",
        "\n",
        "print(\"Persentase Umur yang Kosong : \")\n",
        "print((clean_data['Umur'].isnull().sum()/len(clean_data['Umur']))*100)\n",
        "print(\"Persentase Lama_Berlangganan yang Kosong : \")\n",
        "print((clean_data['Lama_Berlangganan'].isnull().sum()/len(clean_data['Lama_Berlangganan'])*100))\n"
      ],
      "execution_count": null,
      "outputs": [
        {
          "name": "stdout",
          "output_type": "stream",
          "text": [
            "Data yang Kosong : \n",
            "14214\n",
            "Jumlah Keseluruhan Data : \n",
            "333470\n",
            "Persentase Umur yang Kosong : \n",
            "4.262452394518248\n",
            "Persentase Lama_Berlangganan yang Kosong : \n",
            "4.195879689327376\n"
          ]
        }
      ]
    },
    {
      "cell_type": "code",
      "metadata": {
        "id": "asUENZ8oe6a3",
        "outputId": "69f72598-4663-4eac-d9d7-0ed7ab2515c0"
      },
      "source": [
        "#Cari rata rata\n",
        "# (Jumlah seluruh angka dalam tabel/panjang seluruh data)*100\n",
        "#Handle Missing Value with sum mean()\n",
        "average_age = clean_data['Umur'].mean() \n",
        "clean_data['Umur'] = clean_data['Umur'].fillna(average_age)\n",
        "\n",
        "average_time = clean_data['Lama_Berlangganan'].mean() \n",
        "clean_data['Lama_Berlangganan'] = clean_data['Lama_Berlangganan'].fillna(average_time)\n",
        "\n",
        "print(\"Jumlah Data Kosong : \")\n",
        "print(clean_data.isnull().sum())"
      ],
      "execution_count": null,
      "outputs": [
        {
          "name": "stdout",
          "output_type": "stream",
          "text": [
            "Jumlah Data Kosong : \n",
            "id                   47639\n",
            "Umur                     0\n",
            "Lama_Berlangganan        0\n",
            "dtype: int64\n"
          ]
        }
      ]
    },
    {
      "cell_type": "code",
      "metadata": {
        "id": "K4zatNmKe6a4"
      },
      "source": [
        "#Scaler function\n",
        "def scalerFunction(data):\n",
        "    scaler_data = []\n",
        "    x_min = data.min()\n",
        "    x_max = data.max()\n",
        "    for x in data:\n",
        "        x = x/x_max\n",
        "        scaler_data.append(x)\n",
        "    return scaler_data"
      ],
      "execution_count": null,
      "outputs": []
    },
    {
      "cell_type": "code",
      "metadata": {
        "id": "Nu9OBXVLe6a5"
      },
      "source": [
        "#Call Scaller\n",
        "umur_scaler = scalerFunction(clean_data['Umur'])\n",
        "lamaberlangganan_scaler = scalerFunction(clean_data['Lama_Berlangganan'])"
      ],
      "execution_count": null,
      "outputs": []
    },
    {
      "cell_type": "code",
      "metadata": {
        "id": "HRi3FVEle6a5",
        "outputId": "1ffc23a3-71cf-446b-855d-51d69ce6cde2"
      },
      "source": [
        "#Handle By Pandas\n",
        "fixed_data = pd.DataFrame({'Umur':umur_scaler,'Lama_Berlangganan':lamaberlangganan_scaler})\n",
        "fixed_data"
      ],
      "execution_count": null,
      "outputs": [
        {
          "data": {
            "text/html": [
              "<div>\n",
              "<style scoped>\n",
              "    .dataframe tbody tr th:only-of-type {\n",
              "        vertical-align: middle;\n",
              "    }\n",
              "\n",
              "    .dataframe tbody tr th {\n",
              "        vertical-align: top;\n",
              "    }\n",
              "\n",
              "    .dataframe thead th {\n",
              "        text-align: right;\n",
              "    }\n",
              "</style>\n",
              "<table border=\"1\" class=\"dataframe\">\n",
              "  <thead>\n",
              "    <tr style=\"text-align: right;\">\n",
              "      <th></th>\n",
              "      <th>Umur</th>\n",
              "      <th>Lama_Berlangganan</th>\n",
              "    </tr>\n",
              "  </thead>\n",
              "  <tbody>\n",
              "    <tr>\n",
              "      <th>0</th>\n",
              "      <td>0.352941</td>\n",
              "      <td>0.324415</td>\n",
              "    </tr>\n",
              "    <tr>\n",
              "      <th>1</th>\n",
              "      <td>0.564706</td>\n",
              "      <td>0.528428</td>\n",
              "    </tr>\n",
              "    <tr>\n",
              "      <th>2</th>\n",
              "      <td>0.247059</td>\n",
              "      <td>0.397993</td>\n",
              "    </tr>\n",
              "    <tr>\n",
              "      <th>3</th>\n",
              "      <td>0.682353</td>\n",
              "      <td>0.210702</td>\n",
              "    </tr>\n",
              "    <tr>\n",
              "      <th>4</th>\n",
              "      <td>0.588235</td>\n",
              "      <td>0.648829</td>\n",
              "    </tr>\n",
              "    <tr>\n",
              "      <th>...</th>\n",
              "      <td>...</td>\n",
              "      <td>...</td>\n",
              "    </tr>\n",
              "    <tr>\n",
              "      <th>333465</th>\n",
              "      <td>0.717647</td>\n",
              "      <td>0.224080</td>\n",
              "    </tr>\n",
              "    <tr>\n",
              "      <th>333466</th>\n",
              "      <td>0.482353</td>\n",
              "      <td>0.775920</td>\n",
              "    </tr>\n",
              "    <tr>\n",
              "      <th>333467</th>\n",
              "      <td>0.282353</td>\n",
              "      <td>0.705686</td>\n",
              "    </tr>\n",
              "    <tr>\n",
              "      <th>333468</th>\n",
              "      <td>0.694118</td>\n",
              "      <td>0.799331</td>\n",
              "    </tr>\n",
              "    <tr>\n",
              "      <th>333469</th>\n",
              "      <td>0.611765</td>\n",
              "      <td>0.568562</td>\n",
              "    </tr>\n",
              "  </tbody>\n",
              "</table>\n",
              "<p>333470 rows × 2 columns</p>\n",
              "</div>"
            ],
            "text/plain": [
              "            Umur  Lama_Berlangganan\n",
              "0       0.352941           0.324415\n",
              "1       0.564706           0.528428\n",
              "2       0.247059           0.397993\n",
              "3       0.682353           0.210702\n",
              "4       0.588235           0.648829\n",
              "...          ...                ...\n",
              "333465  0.717647           0.224080\n",
              "333466  0.482353           0.775920\n",
              "333467  0.282353           0.705686\n",
              "333468  0.694118           0.799331\n",
              "333469  0.611765           0.568562\n",
              "\n",
              "[333470 rows x 2 columns]"
            ]
          },
          "execution_count": 8,
          "metadata": {},
          "output_type": "execute_result"
        }
      ]
    },
    {
      "cell_type": "code",
      "metadata": {
        "id": "ldDDIL3ee6a6",
        "outputId": "c427bb22-2bc4-4173-d3cf-0b725b080894"
      },
      "source": [
        "plt.figure(figsize=(7, 7))\n",
        "plt.scatter(fixed_data['Umur'],fixed_data['Lama_Berlangganan'])\n",
        "plt.xlabel('Umur')\n",
        "plt.ylabel('Lama Berlangganan')\n",
        "plt.title('Visualization of raw data');"
      ],
      "execution_count": null,
      "outputs": [
        {
          "data": {
            "image/png": "[encoded data removed]",
            "text/plain": [
              "<Figure size 504x504 with 1 Axes>"
            ]
          },
          "metadata": {
            "needs_background": "light"
          },
          "output_type": "display_data"
        }
      ]
    },
    {
      "cell_type": "markdown",
      "metadata": {
        "id": "WO_9undxe6a6"
      },
      "source": [
        "# Modeling"
      ]
    },
    {
      "cell_type": "code",
      "metadata": {
        "id": "xo7ll9wGe6a6"
      },
      "source": [
        "#Defenite start cluster\n",
        "def randomCluster(number_of_cluster):\n",
        "    cluster_rows = np.random.randint(0,len(fixed_data),size=number_of_cluster)\n",
        "    return cluster_rows"
      ],
      "execution_count": null,
      "outputs": []
    },
    {
      "cell_type": "code",
      "metadata": {
        "id": "dySvAFbee6a7"
      },
      "source": [
        "#Change native cluster_array to numpy cluster_array\n",
        "def cluster_to_np(get_centroid):\n",
        "    pcluster = []\n",
        "    for get in get_centroid:\n",
        "        pcluster_temp = []\n",
        "        pcluster_temp.append(fixed_data['Umur'][get])\n",
        "        pcluster_temp.append(fixed_data['Lama_Berlangganan'][get])\n",
        "        pcluster.append(pcluster_temp)\n",
        "\n",
        "    pcluster = np.array(pcluster)\n",
        "    return pcluster"
      ],
      "execution_count": null,
      "outputs": []
    },
    {
      "cell_type": "code",
      "metadata": {
        "id": "pVkdJnobe6a7"
      },
      "source": [
        "#Count Distance function\n",
        "def distance(x_position,centoroid_x,y_position,centoroid_y):\n",
        "    dist = np.sqrt(((centoroid_x-x_position)**2)+((centoroid_y-y_position)**2))\n",
        "    return dist"
      ],
      "execution_count": null,
      "outputs": []
    },
    {
      "cell_type": "code",
      "metadata": {
        "id": "w7ppGxa5e6a7"
      },
      "source": [
        "#K-Means Function\n",
        "# def kMeans(fixed datasets,cluster):\n",
        "def intialCentroid(fixed_data,clusters):\n",
        "    labels = []\n",
        "    umur = fixed_data['Umur']\n",
        "    lama = fixed_data['Lama_Berlangganan']\n",
        "    for cls in range(len(clusters)):\n",
        "        labels_temp = []\n",
        "        centroid_x = clusters[cls][0]\n",
        "        centroid_y = clusters[cls][1]\n",
        "        for i in range(len(fixed_data)):\n",
        "            labels_temp.append(distance(umur[i],centroid_x,lama[i],centroid_y))\n",
        "        labels.append(labels_temp) \n",
        "    return labels"
      ],
      "execution_count": null,
      "outputs": []
    },
    {
      "cell_type": "code",
      "metadata": {
        "id": "tu2q7-jRe6a8"
      },
      "source": [
        "def setMinimimumDistance(datas,labels):\n",
        "    cluster_labels = []\n",
        "    for n in range(len(labels[0])):\n",
        "        min_position = np.where(datas[n]==datas[n].min())\n",
        "        cluster_labels.append(min_position[0][0])\n",
        "    return cluster_labels"
      ],
      "execution_count": null,
      "outputs": []
    },
    {
      "cell_type": "code",
      "metadata": {
        "id": "vET8PJTJe6a8"
      },
      "source": [
        "def findNewCluster(number_of_cluster,fixed_data):\n",
        "    new_cluster = []\n",
        "    for i in range(number_of_cluster):\n",
        "        get_avg = []\n",
        "        #Average every cluster for new cluster\n",
        "        get_cluster = fixed_data.loc[fixed_data['Cluster']==i]\n",
        "        get_avg.append(get_cluster['Umur'].mean())\n",
        "        get_avg.append(get_cluster['Lama_Berlangganan'].mean())\n",
        "        new_cluster.append(get_avg)\n",
        "\n",
        "    new_cluster = np.array(new_cluster)\n",
        "    return new_cluster"
      ],
      "execution_count": null,
      "outputs": []
    },
    {
      "cell_type": "markdown",
      "metadata": {
        "id": "8GT1lrute6a9"
      },
      "source": [
        "== Main Program == "
      ]
    },
    {
      "cell_type": "code",
      "metadata": {
        "id": "ym2LsO7Ae6a9"
      },
      "source": [
        "def kMeansAlgorithm(total_cluster,max_iteration,fixed_data):\n",
        "    min_val = []\n",
        "    for iteration in range(max_iteration): \n",
        "        if (iteration==0):\n",
        "            #Initial starting centroid with random\n",
        "            get_centroid = randomCluster(total_cluster)\n",
        "            pcluster = cluster_to_np(get_centroid) \n",
        "        else:\n",
        "            new_cluster = findNewCluster(total_cluster,fixed_data)\n",
        "            # stop if cluster not changes \n",
        "            if ((new_cluster==pcluster).all().any()):\n",
        "                break\n",
        "            pcluster = new_cluster\n",
        "        #Count Distance and initial centoroid\n",
        "        labels = intialCentroid(fixed_data, pcluster)\n",
        "        \n",
        "        #Find Min for variance\n",
        "        min_val.append(min(labels[0]))\n",
        "        \n",
        "        \n",
        "        #Change labels to pandas Dataframe\n",
        "        datas = pd.DataFrame(labels)\n",
        "        #Set minimum distance\n",
        "        cluster_labels = setMinimimumDistance(datas,labels)\n",
        "        #Merger labels with dataset\n",
        "        fixed_data = pd.DataFrame({'Umur':umur_scaler,'Lama_Berlangganan':lamaberlangganan_scaler,'Cluster':cluster_labels})\n",
        "    \n",
        "    \n",
        "    #Count Innertia/Variance for Elbow\n",
        "    value_temp = 0\n",
        "    values = 0\n",
        "    innertia = 0\n",
        "    avg_innertia = np.mean(min_val)\n",
        "    for variance_iter in range(len(min_val)):\n",
        "        value_temp = (min_val[variance_iter]-avg_innertia)**2\n",
        "        values = values+value_temp\n",
        "    innertia = value_temp/len(labels[0])\n",
        "    return fixed_data, pcluster,innertia"
      ],
      "execution_count": null,
      "outputs": []
    },
    {
      "cell_type": "code",
      "metadata": {
        "id": "OK-8hh4ze6a-"
      },
      "source": [
        "final_data = kMeansAlgorithm(4,123,fixed_data)\n",
        "pcluster = final_data[1]\n",
        "innertia = final_data[2]\n",
        "final_data = final_data[0]"
      ],
      "execution_count": null,
      "outputs": []
    },
    {
      "cell_type": "markdown",
      "metadata": {
        "id": "sbpHGt72e6a-"
      },
      "source": [
        "== End Main Program =="
      ]
    },
    {
      "cell_type": "code",
      "metadata": {
        "id": "dg1iJpYQe6a_",
        "outputId": "f4463d48-e61a-4988-8a60-5b0ef476c1e4"
      },
      "source": [
        "#Show New Data with Cluster\n",
        "final_data"
      ],
      "execution_count": null,
      "outputs": [
        {
          "data": {
            "text/html": [
              "<div>\n",
              "<style scoped>\n",
              "    .dataframe tbody tr th:only-of-type {\n",
              "        vertical-align: middle;\n",
              "    }\n",
              "\n",
              "    .dataframe tbody tr th {\n",
              "        vertical-align: top;\n",
              "    }\n",
              "\n",
              "    .dataframe thead th {\n",
              "        text-align: right;\n",
              "    }\n",
              "</style>\n",
              "<table border=\"1\" class=\"dataframe\">\n",
              "  <thead>\n",
              "    <tr style=\"text-align: right;\">\n",
              "      <th></th>\n",
              "      <th>Umur</th>\n",
              "      <th>Lama_Berlangganan</th>\n",
              "      <th>Cluster</th>\n",
              "    </tr>\n",
              "  </thead>\n",
              "  <tbody>\n",
              "    <tr>\n",
              "      <th>0</th>\n",
              "      <td>0.352941</td>\n",
              "      <td>0.324415</td>\n",
              "      <td>2</td>\n",
              "    </tr>\n",
              "    <tr>\n",
              "      <th>1</th>\n",
              "      <td>0.564706</td>\n",
              "      <td>0.528428</td>\n",
              "      <td>3</td>\n",
              "    </tr>\n",
              "    <tr>\n",
              "      <th>2</th>\n",
              "      <td>0.247059</td>\n",
              "      <td>0.397993</td>\n",
              "      <td>1</td>\n",
              "    </tr>\n",
              "    <tr>\n",
              "      <th>3</th>\n",
              "      <td>0.682353</td>\n",
              "      <td>0.210702</td>\n",
              "      <td>3</td>\n",
              "    </tr>\n",
              "    <tr>\n",
              "      <th>4</th>\n",
              "      <td>0.588235</td>\n",
              "      <td>0.648829</td>\n",
              "      <td>0</td>\n",
              "    </tr>\n",
              "    <tr>\n",
              "      <th>...</th>\n",
              "      <td>...</td>\n",
              "      <td>...</td>\n",
              "      <td>...</td>\n",
              "    </tr>\n",
              "    <tr>\n",
              "      <th>333465</th>\n",
              "      <td>0.717647</td>\n",
              "      <td>0.224080</td>\n",
              "      <td>3</td>\n",
              "    </tr>\n",
              "    <tr>\n",
              "      <th>333466</th>\n",
              "      <td>0.482353</td>\n",
              "      <td>0.775920</td>\n",
              "      <td>0</td>\n",
              "    </tr>\n",
              "    <tr>\n",
              "      <th>333467</th>\n",
              "      <td>0.282353</td>\n",
              "      <td>0.705686</td>\n",
              "      <td>1</td>\n",
              "    </tr>\n",
              "    <tr>\n",
              "      <th>333468</th>\n",
              "      <td>0.694118</td>\n",
              "      <td>0.799331</td>\n",
              "      <td>0</td>\n",
              "    </tr>\n",
              "    <tr>\n",
              "      <th>333469</th>\n",
              "      <td>0.611765</td>\n",
              "      <td>0.568562</td>\n",
              "      <td>3</td>\n",
              "    </tr>\n",
              "  </tbody>\n",
              "</table>\n",
              "<p>333470 rows × 3 columns</p>\n",
              "</div>"
            ],
            "text/plain": [
              "            Umur  Lama_Berlangganan  Cluster\n",
              "0       0.352941           0.324415        2\n",
              "1       0.564706           0.528428        3\n",
              "2       0.247059           0.397993        1\n",
              "3       0.682353           0.210702        3\n",
              "4       0.588235           0.648829        0\n",
              "...          ...                ...      ...\n",
              "333465  0.717647           0.224080        3\n",
              "333466  0.482353           0.775920        0\n",
              "333467  0.282353           0.705686        1\n",
              "333468  0.694118           0.799331        0\n",
              "333469  0.611765           0.568562        3\n",
              "\n",
              "[333470 rows x 3 columns]"
            ]
          },
          "execution_count": 18,
          "metadata": {},
          "output_type": "execute_result"
        }
      ]
    },
    {
      "cell_type": "code",
      "metadata": {
        "id": "I2Yyj9tVe6a_",
        "outputId": "5e5f29a7-3be3-46e1-b087-2d6361bb09a1"
      },
      "source": [
        "#visual hasil kluster \n",
        "output = plt.scatter(final_data['Umur'], final_data['Lama_Berlangganan'], s = 100, c = final_data['Cluster'], marker = \"o\", alpha = 1, )\n",
        "plt.scatter(pcluster[:,0], pcluster[:,1], c='red', s=200, alpha=1 , marker=\"s\");\n",
        "plt.title(\"K-Means Clustering\")\n",
        "plt.xlabel('Umur')\n",
        "plt.ylabel('Lama Berlangganan')\n",
        "plt.colorbar (output)\n",
        "plt.show()"
      ],
      "execution_count": null,
      "outputs": [
        {
          "data": {
            "image/png": "[encoded data removed]",
            "text/plain": [
              "<Figure size 432x288 with 2 Axes>"
            ]
          },
          "metadata": {
            "needs_background": "light"
          },
          "output_type": "display_data"
        }
      ]
    },
    {
      "cell_type": "code",
      "metadata": {
        "scrolled": true,
        "id": "cFRFa7YOe6a_"
      },
      "source": [
        "distortions = []\n",
        "K = range(1,10)\n",
        "for k in K:\n",
        "    kmeans = kMeansAlgorithm(k,123,fixed_data)\n",
        "    innertia_ = kmeans[2]\n",
        "    distortions.append(innertia_)"
      ],
      "execution_count": null,
      "outputs": []
    },
    {
      "cell_type": "code",
      "metadata": {
        "id": "PzXGNOaHe6a_",
        "outputId": "f5522767-ad22-4a05-acae-0a2bab235c81"
      },
      "source": [
        "plt.figure(figsize=(12,6))\n",
        "plt.plot(K, distortions, 'bx-')\n",
        "plt.xlabel('k')\n",
        "plt.ylabel('Distortion')\n",
        "plt.title('The Elbow Method showing the optimal k')\n",
        "plt.show()"
      ],
      "execution_count": null,
      "outputs": [
        {
          "data": {
            "image/png": "[encoded data removed]",
            "text/plain": [
              "<Figure size 864x432 with 1 Axes>"
            ]
          },
          "metadata": {
            "needs_background": "light"
          },
          "output_type": "display_data"
        }
      ]
    },
    {
      "cell_type": "code",
      "metadata": {
        "id": "uaaMUBk_e6bA"
      },
      "source": [
        ""
      ],
      "execution_count": null,
      "outputs": []
    }
  ]
}